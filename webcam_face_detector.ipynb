{
 "cells": [
  {
   "cell_type": "code",
   "execution_count": 1,
   "id": "d7c57e88",
   "metadata": {},
   "outputs": [],
   "source": [
    "import numpy as np\n",
    "import cv2 as cv\n",
    "haar_cascade = cv.CascadeClassifier('haar_face.xml')"
   ]
  },
  {
   "cell_type": "code",
   "execution_count": 2,
   "id": "9104b039",
   "metadata": {},
   "outputs": [],
   "source": [
    "def flipframe(frame,axis):\n",
    "    frame=cv.flip(frame,axis)\n",
    "    return frame"
   ]
  },
  {
   "cell_type": "code",
   "execution_count": 3,
   "id": "ee982d18",
   "metadata": {},
   "outputs": [],
   "source": [
    "\n",
    "def detect(frame, face_cascade=haar_cascade):\n",
    "    faces_rect = face_cascade.detectMultiScale(frame, scaleFactor=1.1, minNeighbors=6)\n",
    "\n",
    "    for (x, y, w, h) in faces_rect:\n",
    "        cv.rectangle(frame, (x, y), (x + w, y + h), (0, 255, 0), thickness=2)\n",
    "\n",
    "    text = f'Number of faces found = {len(faces_rect)}'\n",
    "    cv.putText(frame, text, (10, 30), cv.FONT_HERSHEY_COMPLEX, 0.9, (0, 255, 0), 2)\n",
    "\n",
    "    return frame\n"
   ]
  },
  {
   "cell_type": "code",
   "execution_count": null,
   "id": "eb92fd65",
   "metadata": {},
   "outputs": [
    {
     "ename": "NameError",
     "evalue": "name 'cv' is not defined",
     "output_type": "error",
     "traceback": [
      "\u001b[1;31m---------------------------------------------------------------------------\u001b[0m",
      "\u001b[1;31mNameError\u001b[0m                                 Traceback (most recent call last)",
      "Cell \u001b[1;32mIn[1], line 1\u001b[0m\n\u001b[1;32m----> 1\u001b[0m capture \u001b[38;5;241m=\u001b[39m \u001b[43mcv\u001b[49m\u001b[38;5;241m.\u001b[39mVideoCapture(\u001b[38;5;241m0\u001b[39m)\n\u001b[0;32m      3\u001b[0m \u001b[38;5;28;01mif\u001b[39;00m \u001b[38;5;129;01mnot\u001b[39;00m capture\u001b[38;5;241m.\u001b[39misOpened():\n\u001b[0;32m      5\u001b[0m     \u001b[38;5;28mprint\u001b[39m(\u001b[38;5;124m\"\u001b[39m\u001b[38;5;124mError: Could not access the webcam.\u001b[39m\u001b[38;5;124m\"\u001b[39m)\n",
      "\u001b[1;31mNameError\u001b[0m: name 'cv' is not defined"
     ]
    }
   ],
   "source": [
    "capture = cv.VideoCapture(0)\n",
    "\n",
    "if not capture.isOpened():\n",
    "    \n",
    "    print(\"Error: Could not access the webcam.\")\n",
    "    exit()\n",
    "\n",
    "while True:\n",
    "    \n",
    "    ret, frame = capture.read()\n",
    "    if not ret:\n",
    "        print(\"Error: Failed to grab frame.\")\n",
    "        break\n",
    "\n",
    "    frame=flipframe(frame,1)\n",
    "    # gray=cv.cvtColor(frame,cv.COLOR_BAYER_BG2GRAY)\n",
    "    \n",
    "    output_frame=detect(frame)\n",
    "    cv.imshow(\"Webcam Feed\", output_frame)\n",
    "    \n",
    "    if cv.waitKey(1) & 0xFF == ord('q'):\n",
    "        break\n",
    "\n",
    "capture.release()\n",
    "cv.destroyAllWindows()"
   ]
  }
 ],
 "metadata": {
  "kernelspec": {
   "display_name": ".venv",
   "language": "python",
   "name": "python3"
  },
  "language_info": {
   "codemirror_mode": {
    "name": "ipython",
    "version": 3
   },
   "file_extension": ".py",
   "mimetype": "text/x-python",
   "name": "python",
   "nbconvert_exporter": "python",
   "pygments_lexer": "ipython3",
   "version": "3.10.11"
  }
 },
 "nbformat": 4,
 "nbformat_minor": 5
}
